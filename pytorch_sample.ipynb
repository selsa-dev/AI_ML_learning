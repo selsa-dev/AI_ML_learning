{
  "cells": [
    {
      "cell_type": "code",
      "source": [
        "!pip install torch torchvision"
      ],
      "outputs": [
        {
          "output_type": "stream",
          "name": "stdout",
          "text": "Requirement already satisfied: torch in /anaconda/envs/azureml_py38/lib/python3.10/site-packages (2.7.1)\r\nRequirement already satisfied: torchvision in /anaconda/envs/azureml_py38/lib/python3.10/site-packages (0.22.1)\r\nRequirement already satisfied: filelock in /anaconda/envs/azureml_py38/lib/python3.10/site-packages (from torch) (3.18.0)\r\nRequirement already satisfied: networkx in /anaconda/envs/azureml_py38/lib/python3.10/site-packages (from torch) (3.4.2)\r\nRequirement already satisfied: sympy>=1.13.3 in /anaconda/envs/azureml_py38/lib/python3.10/site-packages (from torch) (1.13.3)\r\nRequirement already satisfied: nvidia-cudnn-cu12==9.5.1.17 in /anaconda/envs/azureml_py38/lib/python3.10/site-packages (from torch) (9.5.1.17)\r\nRequirement already satisfied: nvidia-cublas-cu12==12.6.4.1 in /anaconda/envs/azureml_py38/lib/python3.10/site-packages (from torch) (12.6.4.1)\r\nRequirement already satisfied: triton==3.3.1 in /anaconda/envs/azureml_py38/lib/python3.10/site-packages (from torch) (3.3.1)\r\nRequirement already satisfied: nvidia-nvjitlink-cu12==12.6.85 in /anaconda/envs/azureml_py38/lib/python3.10/site-packages (from torch) (12.6.85)\r\nRequirement already satisfied: nvidia-cufft-cu12==11.3.0.4 in /anaconda/envs/azureml_py38/lib/python3.10/site-packages (from torch) (11.3.0.4)\r\nRequirement already satisfied: typing-extensions>=4.10.0 in /anaconda/envs/azureml_py38/lib/python3.10/site-packages (from torch) (4.14.1)\r\nRequirement already satisfied: nvidia-nccl-cu12==2.26.2 in /anaconda/envs/azureml_py38/lib/python3.10/site-packages (from torch) (2.26.2)\r\nRequirement already satisfied: nvidia-cuda-nvrtc-cu12==12.6.77 in /anaconda/envs/azureml_py38/lib/python3.10/site-packages (from torch) (12.6.77)\r\nRequirement already satisfied: nvidia-curand-cu12==10.3.7.77 in /anaconda/envs/azureml_py38/lib/python3.10/site-packages (from torch) (10.3.7.77)\r\nRequirement already satisfied: nvidia-cusparselt-cu12==0.6.3 in /anaconda/envs/azureml_py38/lib/python3.10/site-packages (from torch) (0.6.3)\r\nRequirement already satisfied: nvidia-cuda-cupti-cu12==12.6.80 in /anaconda/envs/azureml_py38/lib/python3.10/site-packages (from torch) (12.6.80)\r\nRequirement already satisfied: nvidia-cuda-runtime-cu12==12.6.77 in /anaconda/envs/azureml_py38/lib/python3.10/site-packages (from torch) (12.6.77)\r\nRequirement already satisfied: nvidia-cusolver-cu12==11.7.1.2 in /anaconda/envs/azureml_py38/lib/python3.10/site-packages (from torch) (11.7.1.2)\r\nRequirement already satisfied: nvidia-cufile-cu12==1.11.1.6 in /anaconda/envs/azureml_py38/lib/python3.10/site-packages (from torch) (1.11.1.6)\r\nRequirement already satisfied: nvidia-cusparse-cu12==12.5.4.2 in /anaconda/envs/azureml_py38/lib/python3.10/site-packages (from torch) (12.5.4.2)\r\nRequirement already satisfied: fsspec in /anaconda/envs/azureml_py38/lib/python3.10/site-packages (from torch) (2023.10.0)\r\nRequirement already satisfied: nvidia-nvtx-cu12==12.6.77 in /anaconda/envs/azureml_py38/lib/python3.10/site-packages (from torch) (12.6.77)\r\nRequirement already satisfied: jinja2 in /anaconda/envs/azureml_py38/lib/python3.10/site-packages (from torch) (3.1.6)\r\nRequirement already satisfied: setuptools>=40.8.0 in /anaconda/envs/azureml_py38/lib/python3.10/site-packages (from triton==3.3.1->torch) (75.8.0)\r\nRequirement already satisfied: pillow!=8.3.*,>=5.3.0 in /anaconda/envs/azureml_py38/lib/python3.10/site-packages (from torchvision) (9.2.0)\r\nRequirement already satisfied: numpy in /home/azureuser/.local/lib/python3.10/site-packages (from torchvision) (1.26.4)\r\nRequirement already satisfied: mpmath<1.4,>=1.1.0 in /anaconda/envs/azureml_py38/lib/python3.10/site-packages (from sympy>=1.13.3->torch) (1.3.0)\r\nRequirement already satisfied: MarkupSafe>=2.0 in /anaconda/envs/azureml_py38/lib/python3.10/site-packages (from jinja2->torch) (3.0.2)\r\n"
        }
      ],
      "execution_count": 1,
      "metadata": {}
    },
    {
      "cell_type": "code",
      "source": [
        "import torch\n",
        "import torchvision\n",
        "import torchvision.transforms as transforms\n",
        "import matplotlib.pyplot as plt\n",
        "import torch.nn as nn\n",
        "import torch.nn.functional as F\n",
        "import torch.optim as optim"
      ],
      "outputs": [],
      "execution_count": 10,
      "metadata": {
        "gather": {
          "logged": 1755963238704
        }
      }
    },
    {
      "cell_type": "code",
      "source": [
        "# Load the CIFAR-10 dataset\n",
        "transform = transforms.Compose([transforms.ToTensor(), transforms.Normalize((0.5, 0.5, 0.5), (0.5, 0.5, 0.5))])\n",
        "\n",
        "trainset = torchvision.datasets.CIFAR10(root='./data', train=True, download=True, transform=transform)\n",
        "trainloader = torch.utils.data.DataLoader(trainset, batch_size=4, shuffle=True, num_workers=2)\n",
        "\n",
        "testset = torchvision.datasets.CIFAR10(root='./data', train=False, download=True, transform=transform)\n",
        "testloader = torch.utils.data.DataLoader(testset, batch_size=4, shuffle=False, num_workers=2)"
      ],
      "outputs": [
        {
          "output_type": "stream",
          "name": "stderr",
          "text": "100%|██████████| 170M/170M [00:06<00:00, 28.3MB/s] \n"
        }
      ],
      "execution_count": 3,
      "metadata": {
        "gather": {
          "logged": 1755962464691
        }
      }
    },
    {
      "cell_type": "code",
      "source": [
        "# Define model architecture\n",
        "class Net(nn.Module):\n",
        "    def __init__(self):\n",
        "        super(Net, self).__init__()\n",
        "        self.conv1 = nn.Conv2d(3, 6, 5)\n",
        "        self.pool = nn.MaxPool2d(2, 2)\n",
        "        self.conv2 = nn.Conv2d(6, 16, 5)\n",
        "        self.fc1 = nn.Linear(16 * 5 * 5, 120)\n",
        "        self.fc2 = nn.Linear(120, 84)\n",
        "        self.fc3 = nn.Linear(84, 10)\n",
        "\n",
        "    def forward(self, x):\n",
        "        x = self.pool(F.relu(self.conv1(x)))\n",
        "        x = self.pool(F.relu(self.conv2(x)))\n",
        "        x = x.view(-1, 16 * 5 * 5)\n",
        "        x = F.relu(self.fc1(x))\n",
        "        x = F.relu(self.fc2(x))\n",
        "        x = self.fc3(x)\n",
        "        return x\n",
        "\n",
        "net = Net()"
      ],
      "outputs": [],
      "execution_count": 9,
      "metadata": {
        "gather": {
          "logged": 1755963196494
        }
      }
    },
    {
      "cell_type": "code",
      "source": [
        "# Set up the training loop\n",
        "criterion = nn.CrossEntropyLoss()\n",
        "optimizer = optim.SGD(net.parameters(), lr=0.001, momentum=0.9)\n",
        "\n",
        "for epoch in range(10):\n",
        "    running_loss = 0.0\n",
        "    for i, data in enumerate(trainloader, 0):\n",
        "        inputs, labels = data\n",
        "        optimizer.zero_grad()\n",
        "        outputs = net(inputs)\n",
        "        loss = criterion(outputs, labels)\n",
        "        loss.backward()\n",
        "        optimizer.step()\n",
        "\n",
        "        running_loss += loss.item()\n",
        "        if i % 2000 == 1999:\n",
        "            print(f'[Epoch {epoch + 1}, Batch {i + 1}] loss: {running_loss / 2000:.3f}')\n",
        "            running_loss = 0.0\n",
        "\n",
        "print('Finished Training')"
      ],
      "outputs": [
        {
          "output_type": "stream",
          "name": "stdout",
          "text": "[Epoch 1, Batch 2000] loss: 2.193\n[Epoch 1, Batch 4000] loss: 2.003\n[Epoch 1, Batch 6000] loss: 1.797\n[Epoch 1, Batch 8000] loss: 1.682\n[Epoch 1, Batch 10000] loss: 1.591\n[Epoch 1, Batch 12000] loss: 1.538\n[Epoch 2, Batch 2000] loss: 1.487\n[Epoch 2, Batch 4000] loss: 1.441\n[Epoch 2, Batch 6000] loss: 1.410\n[Epoch 2, Batch 8000] loss: 1.392\n[Epoch 2, Batch 10000] loss: 1.385\n[Epoch 2, Batch 12000] loss: 1.341\n[Epoch 3, Batch 2000] loss: 1.315\n[Epoch 3, Batch 4000] loss: 1.285\n[Epoch 3, Batch 6000] loss: 1.271\n[Epoch 3, Batch 8000] loss: 1.259\n[Epoch 3, Batch 10000] loss: 1.257\n[Epoch 3, Batch 12000] loss: 1.239\n[Epoch 4, Batch 2000] loss: 1.184\n[Epoch 4, Batch 4000] loss: 1.200\n[Epoch 4, Batch 6000] loss: 1.183\n[Epoch 4, Batch 8000] loss: 1.181\n[Epoch 4, Batch 10000] loss: 1.171\n[Epoch 4, Batch 12000] loss: 1.165\n[Epoch 5, Batch 2000] loss: 1.085\n[Epoch 5, Batch 4000] loss: 1.132\n[Epoch 5, Batch 6000] loss: 1.107\n[Epoch 5, Batch 8000] loss: 1.112\n[Epoch 5, Batch 10000] loss: 1.114\n[Epoch 5, Batch 12000] loss: 1.107\n[Epoch 6, Batch 2000] loss: 1.034\n[Epoch 6, Batch 4000] loss: 1.043\n[Epoch 6, Batch 6000] loss: 1.077\n[Epoch 6, Batch 8000] loss: 1.071\n[Epoch 6, Batch 10000] loss: 1.054\n[Epoch 6, Batch 12000] loss: 1.068\n[Epoch 7, Batch 2000] loss: 0.979\n[Epoch 7, Batch 4000] loss: 1.003\n[Epoch 7, Batch 6000] loss: 1.016\n[Epoch 7, Batch 8000] loss: 1.023\n[Epoch 7, Batch 10000] loss: 1.013\n[Epoch 7, Batch 12000] loss: 1.022\n[Epoch 8, Batch 2000] loss: 0.955\n[Epoch 8, Batch 4000] loss: 0.942\n[Epoch 8, Batch 6000] loss: 0.983\n[Epoch 8, Batch 8000] loss: 0.975\n[Epoch 8, Batch 10000] loss: 0.981\n[Epoch 8, Batch 12000] loss: 1.007\n[Epoch 9, Batch 2000] loss: 0.903\n[Epoch 9, Batch 4000] loss: 0.921\n[Epoch 9, Batch 6000] loss: 0.930\n[Epoch 9, Batch 8000] loss: 0.941\n[Epoch 9, Batch 10000] loss: 0.956\n[Epoch 9, Batch 12000] loss: 0.944\n[Epoch 10, Batch 2000] loss: 0.847\n[Epoch 10, Batch 4000] loss: 0.880\n[Epoch 10, Batch 6000] loss: 0.894\n[Epoch 10, Batch 8000] loss: 0.913\n[Epoch 10, Batch 10000] loss: 0.932\n[Epoch 10, Batch 12000] loss: 0.953\nFinished Training\n"
        }
      ],
      "execution_count": 11,
      "metadata": {
        "gather": {
          "logged": 1755963899381
        }
      }
    },
    {
      "cell_type": "code",
      "source": [
        "# Evaluate the model’s performance\n",
        "correct = 0\n",
        "total = 0\n",
        "with torch.no_grad():\n",
        "    for data in testloader:\n",
        "        images, labels = data\n",
        "        outputs = net(images)\n",
        "        _, predicted = torch.max(outputs.data, 1)\n",
        "        total += labels.size(0)\n",
        "        correct += (predicted == labels).sum().item()\n",
        "\n",
        "print(f'Accuracy of the network on the 10000 test images: {100 * correct / total} %')"
      ],
      "outputs": [
        {
          "output_type": "stream",
          "name": "stdout",
          "text": "Accuracy of the network on the 10000 test images: 59.31 %\n"
        }
      ],
      "execution_count": 12,
      "metadata": {
        "gather": {
          "logged": 1755964062001
        }
      }
    },
    {
      "cell_type": "code",
      "source": [
        "PATH = './cifar_net.pth'\n",
        "torch.save(net.state_dict(), PATH)"
      ],
      "outputs": [],
      "execution_count": 13,
      "metadata": {
        "gather": {
          "logged": 1755964065524
        }
      }
    },
    {
      "cell_type": "code",
      "source": [
        "№Load the model"
      ],
      "outputs": [],
      "execution_count": null,
      "metadata": {}
    }
  ],
  "metadata": {
    "kernelspec": {
      "name": "python38-azureml-pt-tf",
      "language": "python",
      "display_name": "Python 3.10 - Pytorch and Tensorflow"
    },
    "language_info": {
      "name": "python",
      "version": "3.10.16",
      "mimetype": "text/x-python",
      "codemirror_mode": {
        "name": "ipython",
        "version": 3
      },
      "pygments_lexer": "ipython3",
      "nbconvert_exporter": "python",
      "file_extension": ".py"
    },
    "microsoft": {
      "ms_spell_check": {
        "ms_spell_check_language": "en"
      },
      "host": {
        "AzureML": {
          "notebookHasBeenCompleted": true
        }
      }
    },
    "kernel_info": {
      "name": "python38-azureml-pt-tf"
    },
    "nteract": {
      "version": "nteract-front-end@1.0.0"
    }
  },
  "nbformat": 4,
  "nbformat_minor": 2
}